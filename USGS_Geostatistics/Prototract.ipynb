{
 "cells": [
  {
   "cell_type": "markdown",
   "metadata": {},
   "source": [
    "# Prototract Notebook - Kris Veselits"
   ]
  },
  {
   "cell_type": "markdown",
   "metadata": {},
   "source": [
    "## Important: Run the cell below first"
   ]
  },
  {
   "cell_type": "code",
   "execution_count": 25,
   "metadata": {},
   "outputs": [],
   "source": [
    "from arcgis import GIS\n",
    "import arcpy\n",
    "gis = GIS() # Create portal connection."
   ]
  },
  {
   "cell_type": "code",
   "execution_count": 26,
   "metadata": {},
   "outputs": [],
   "source": [
    "# To allow overwriting outputs change overwriteOutput option to True.\n",
    "    arcpy.env.overwriteOutput = False"
   ]
  },
  {
   "cell_type": "markdown",
   "metadata": {},
   "source": [
    "## Optional: Important shortcuts - (Help -> Keyboard Shortcuts)\n",
    "After partially typing, press tab to bring up autocomplete when trying to remember commands/libraries\n",
    "When trying to remember which parameters a method requires, press shift + tab within the paranthesis"
   ]
  },
  {
   "cell_type": "code",
   "execution_count": 27,
   "metadata": {},
   "outputs": [
    {
     "data": {
      "text/plain": [
       "<function arcpy.analysis.Union(in_features=None, out_feature_class=None, join_attributes=None, cluster_tolerance=None, gaps=None)>"
      ]
     },
     "execution_count": 27,
     "metadata": {},
     "output_type": "execute_result"
    }
   ],
   "source": [
    "# Place cursor after method call and press shift + tab to see required parameters\n",
    "arcpy.Union_analysis"
   ]
  },
  {
   "cell_type": "markdown",
   "metadata": {},
   "source": [
    "##  Enter path to input feature"
   ]
  },
  {
   "cell_type": "code",
   "execution_count": 28,
   "metadata": {},
   "outputs": [],
   "source": [
    "import os\n",
    "notebook_path = os.path.abspath(\"Prototract.ipynb\")\n",
    "Output_Union = os.path.join(os.path.dirname(notebook_path), \"Output_Union.shp\")\n",
    "\n",
    "# Replace \"Prototract\\Input\\Initial_tracts.shp\" with path to required geologic features shapefile/etc.\n",
    "# Note: path begins where the Notebook file is located. If full path is easier, use cell below instead.\n",
    "Input_Geologic_Features = os.path.join(os.path.dirname(notebook_path), \"Prototract\\Input\\Initial_tracts.shp\")"
   ]
  },
  {
   "cell_type": "code",
   "execution_count": 29,
   "metadata": {},
   "outputs": [],
   "source": [
    "# Alternatively: enter the full path (uncomment line below)\n",
    "#Input_Geologic_Features = os.path.abspath(\"C:/path/to/file.shp\")"
   ]
  },
  {
   "cell_type": "markdown",
   "metadata": {},
   "source": [
    "## Optional: Enter path to output feature\n",
    "Output path will default to the folder that contains the Notebook.ipynb"
   ]
  },
  {
   "cell_type": "code",
   "execution_count": 30,
   "metadata": {},
   "outputs": [],
   "source": [
    "# Replace \"Prototract\\Output\\Output_Union.shp\" with path to required geologic features shapefile/etc.\n",
    "# Note: path begins where the Notebook file is located. If full path is easier, use cell below instead.\n",
    "Output_Union = os.path.join(os.path.dirname(notebook_path), \"Prototract\\Output\\Output_Union.shp\")"
   ]
  },
  {
   "cell_type": "code",
   "execution_count": 31,
   "metadata": {},
   "outputs": [],
   "source": [
    "# Alternatively: enter the full path (uncomment line below)\n",
    "#Output_Union = os.path.abspath(\"C:/path/to/file.shp\")"
   ]
  },
  {
   "cell_type": "markdown",
   "metadata": {},
   "source": [
    "# Alternative ways to load input file:\n",
    "If this Notebook is opened through ArcGIS Pro, simply enter the name of layer added to the current map, E.G., Input_Geologic_Features = \"Initial_tracts\"\n",
    "See image: "
   ]
  },
  {
   "cell_type": "markdown",
   "metadata": {},
   "source": [
    "![Alternative Method](https://i.imgur.com/4VdTedV.png)"
   ]
  },
  {
   "cell_type": "markdown",
   "metadata": {},
   "source": [
    "Files can also be added through the Juypter Notebook web interface (accessed by entering \"jupyter notebook\" from Python Prompt)"
   ]
  },
  {
   "cell_type": "code",
   "execution_count": 32,
   "metadata": {},
   "outputs": [],
   "source": [
    "# Optional: Replace \"Initial_tracts\" with name of layer added to current map and uncomment line below\n",
    "# Input_Geologic_Features = \"Initial_tracts\""
   ]
  },
  {
   "cell_type": "markdown",
   "metadata": {},
   "source": [
    "## Process: Union"
   ]
  },
  {
   "cell_type": "code",
   "execution_count": 33,
   "metadata": {},
   "outputs": [
    {
     "name": "stdout",
     "output_type": "stream",
     "text": [
      "Help on function Union in module arcpy.analysis:\n",
      "\n",
      "Union(in_features=None, out_feature_class=None, join_attributes=None, cluster_tolerance=None, gaps=None)\n",
      "    Union_analysis(in_features;in_features..., out_feature_class, {join_attributes}, {cluster_tolerance}, {gaps})\n",
      "    \n",
      "       Computes a geometric union of the input features. All features and\n",
      "       their attributes will be written to the output feature class.\n",
      "    \n",
      "    INPUTS:\n",
      "     in_features (Value Table):\n",
      "         A list of the input feature classes or layers. When the distance\n",
      "         between features is less than the cluster tolerance, the features with\n",
      "         the lower rank will snap to the feature with the higher rank. The\n",
      "         highest rank is one. All of the input features must be polygons.\n",
      "     join_attributes {String}:\n",
      "         Determines which attributes from the input features will be\n",
      "         transferred to the output feature class.\n",
      "    \n",
      "         * ALL-All the attributes from the input features will be transferred\n",
      "         to the output feature class. This is the default.\n",
      "    \n",
      "         * NO_FID-All the attributes except the FID from the input features\n",
      "         will be transferred to the output feature class.\n",
      "    \n",
      "         * ONLY_FID-Only the FID field from the input features will be\n",
      "         transferred to the output feature class.\n",
      "     cluster_tolerance {Linear Unit}:\n",
      "         The minimum distance separating all feature coordinates (nodes and\n",
      "         vertices) as well as the distance a coordinate can move in X or Y (or\n",
      "         both).\n",
      "     gaps {Boolean}:\n",
      "         Gaps are areas in the output feature class that are completely\n",
      "         enclosed by other polygons. This is not invalid, but it may be\n",
      "         desirable to identify these for analysis. To find the gaps in the\n",
      "         output, set this option to NO_GAPS, and a feature will be created in\n",
      "         these areas. To select these features, query the output feature class\n",
      "         based on all the input feature's FID values being equal to -1.\n",
      "    \n",
      "         * GAPS-No feature will be created for areas in the output that are\n",
      "         completely enclosed by polygons. This is the default.\n",
      "    \n",
      "         * NO_GAPS-A feature will be created for the areas in the output that\n",
      "         are completely enclosed by polygons. This feature will have blank\n",
      "         attributes and its FID values will be -1.\n",
      "    \n",
      "    OUTPUTS:\n",
      "     out_feature_class (Feature Class):\n",
      "         The feature class that will contain the results.\n",
      "\n"
     ]
    }
   ],
   "source": [
    "# Optional: Help\n",
    "help(arcpy.Union_analysis)"
   ]
  },
  {
   "cell_type": "code",
   "execution_count": 34,
   "metadata": {},
   "outputs": [
    {
     "data": {
      "text/plain": [
       "<Result 'c:\\\\Users\\\\kjuli\\\\PycharmProjects\\\\USGS_Geostatistics\\\\USGS_Geostatistics\\\\Prototract\\\\Output\\\\Output_Union.shp'>"
      ]
     },
     "execution_count": 34,
     "metadata": {},
     "output_type": "execute_result"
    }
   ],
   "source": [
    "# Shift + Tab for required parameters (E.G., arcpy.Union_analysis(Input_Geologic_Features))\n",
    "arcpy.Union_analysis(in_features=Input_Geologic_Features, out_feature_class=Output_Union, join_attributes=\"ALL\",\n",
    "                         cluster_tolerance=\"\", gaps=\"GAPS\")"
   ]
  },
  {
   "cell_type": "markdown",
   "metadata": {},
   "source": [
    "## Create map frame and plot points"
   ]
  },
  {
   "cell_type": "code",
   "execution_count": 35,
   "metadata": {
    "scrolled": true
   },
   "outputs": [
    {
     "data": {
      "application/vnd.jupyter.widget-view+json": {
       "model_id": "d1ec43d723b44fa29c132c1d454cc1b0",
       "version_major": 2,
       "version_minor": 0
      },
      "text/plain": [
       "MapView(layout=Layout(height='400px', width='100%'))"
      ]
     },
     "metadata": {},
     "output_type": "display_data"
    },
    {
     "data": {
      "text/html": [
       "<div class=\"map-static-img-preview-6935ce0f-2cc9-4c71-b69b-43cca96615a7\"><img src=\"\"></img></div>"
      ],
      "text/plain": [
       "<IPython.core.display.HTML object>"
      ]
     },
     "metadata": {},
     "output_type": "display_data"
    }
   ],
   "source": [
    "from arcgis.features import SpatialDataFrame\n",
    "sdf = SpatialDataFrame.from_featureclass(Output_Union)\n",
    "map1 = gis.map('Nevada')\n",
    "sdf.plot(kind='map', map_widget= map1)\n",
    "map1"
   ]
  },
  {
   "cell_type": "code",
   "execution_count": 36,
   "metadata": {},
   "outputs": [
    {
     "data": {
      "application/vnd.jupyter.widget-view+json": {
       "model_id": "d1ec43d723b44fa29c132c1d454cc1b0",
       "version_major": 2,
       "version_minor": 0
      },
      "text/plain": [
       "MapView(layout=Layout(height='400px', width='100%'))"
      ]
     },
     "metadata": {},
     "output_type": "display_data"
    },
    {
     "data": {
      "text/html": [
       "<div class=\"map-static-img-preview-6935ce0f-2cc9-4c71-b69b-43cca96615a7\"><img src=\"\"></img></div>"
      ],
      "text/plain": [
       "<IPython.core.display.HTML object>"
      ]
     },
     "metadata": {},
     "output_type": "display_data"
    }
   ],
   "source": [
    "map1"
   ]
  },
  {
   "cell_type": "markdown",
   "metadata": {},
   "source": [
    "## Process: Multipart To Singlepart"
   ]
  },
  {
   "cell_type": "code",
   "execution_count": 17,
   "metadata": {},
   "outputs": [
    {
     "name": "stdout",
     "output_type": "stream",
     "text": [
      "Help on function MultipartToSinglepart in module arcpy.management:\n",
      "\n",
      "MultipartToSinglepart(in_features=None, out_feature_class=None)\n",
      "    MultipartToSinglepart_management(in_features, out_feature_class)\n",
      "    \n",
      "       Creates a feature class containing singlepart features generated by\n",
      "       separating multipart input features.\n",
      "    \n",
      "    INPUTS:\n",
      "     in_features (Feature Layer):\n",
      "         The input features that can be any feature type.\n",
      "    \n",
      "    OUTPUTS:\n",
      "     out_feature_class (Feature Class):\n",
      "         The output feature class containing features that vary with input\n",
      "         feature type.\n",
      "\n"
     ]
    }
   ],
   "source": [
    "# Optional: Help\n",
    "help(arcpy.MultipartToSinglepart_management)"
   ]
  },
  {
   "cell_type": "code",
   "execution_count": 18,
   "metadata": {},
   "outputs": [
    {
     "data": {
      "text/plain": [
       "<Result 'c:\\\\Users\\\\kjuli\\\\PycharmProjects\\\\USGS_Geostatistics\\\\USGS_Geostatistics\\\\Output_Singlepart.shp'>"
      ]
     },
     "execution_count": 18,
     "metadata": {},
     "output_type": "execute_result"
    }
   ],
   "source": [
    "Output_Singlepart = os.path.join(os.path.dirname(notebook_path), \"Output_Singlepart.shp\")\n",
    "arcpy.MultipartToSinglepart_management(in_features=Output_Union, out_feature_class=Output_Singlepart)"
   ]
  },
  {
   "cell_type": "markdown",
   "metadata": {},
   "source": [
    "## Update map frame and plot points"
   ]
  },
  {
   "cell_type": "code",
   "execution_count": 19,
   "metadata": {},
   "outputs": [
    {
     "name": "stderr",
     "output_type": "stream",
     "text": [
      "C:\\Program Files\\ArcGIS\\Pro\\bin\\Python\\envs\\arcgispro-py3\\lib\\site-packages\\arcgis\\features\\_data\\geodataset\\geodataframe.py:221: UserWarning: SpatialDataFrame has been deprecated.  Please switch to the GeoAccessor/GeoSeriesAccessor.\n",
      "  warnings.warn(\"SpatialDataFrame has been deprecated.  Please switch to the GeoAccessor/GeoSeriesAccessor.\")\n"
     ]
    },
    {
     "data": {
      "application/vnd.jupyter.widget-view+json": {
       "model_id": "0d233dcdbd474459abaa412b427cc483",
       "version_major": 2,
       "version_minor": 0
      },
      "text/plain": [
       "MapView(layout=Layout(height='400px', width='100%'))"
      ]
     },
     "metadata": {},
     "output_type": "display_data"
    },
    {
     "data": {
      "text/html": [
       "<div class=\"map-static-img-preview-1257c689-140e-4eea-818a-aaf86761d449\"><img src=\"\"></img></div>"
      ],
      "text/plain": [
       "<IPython.core.display.HTML object>"
      ]
     },
     "metadata": {},
     "output_type": "display_data"
    }
   ],
   "source": [
    "sdf = SpatialDataFrame.from_featureclass(Output_Singlepart)\n",
    "map1 = gis.map('Nevada')\n",
    "sdf.plot(kind='map', map_widget= map1)\n",
    "map1"
   ]
  },
  {
   "cell_type": "markdown",
   "metadata": {},
   "source": [
    "## Optional: delete intermediate files"
   ]
  },
  {
   "cell_type": "code",
   "execution_count": 20,
   "metadata": {},
   "outputs": [
    {
     "data": {
      "text/plain": [
       "<Result 'true'>"
      ]
     },
     "execution_count": 20,
     "metadata": {},
     "output_type": "execute_result"
    }
   ],
   "source": [
    "# Process: Delete\n",
    "arcpy.Delete_management(Output_Union, \"\")"
   ]
  },
  {
   "cell_type": "markdown",
   "metadata": {},
   "source": [
    "## Process: Aggregate Polygons"
   ]
  },
  {
   "cell_type": "markdown",
   "metadata": {},
   "source": [
    "![Process: Aggregate Polygons](https://i.imgur.com/K9U3WZC.png)"
   ]
  },
  {
   "cell_type": "code",
   "execution_count": 21,
   "metadata": {},
   "outputs": [
    {
     "name": "stdout",
     "output_type": "stream",
     "text": [
      "Help on function AggregatePolygons in module arcpy.cartography:\n",
      "\n",
      "AggregatePolygons(in_features=None, out_feature_class=None, aggregation_distance=None, minimum_area=None, minimum_hole_size=None, orthogonality_option=None, barrier_features=None, out_table=None)\n",
      "    AggregatePolygons_cartography(in_features, out_feature_class, aggregation_distance, {minimum_area}, {minimum_hole_size}, {orthogonality_option}, {barrier_features;barrier_features...}, {out_table})\n",
      "    \n",
      "       Combines polygons within a specified distance of each other into new\n",
      "       polygons.\n",
      "    \n",
      "    INPUTS:\n",
      "     in_features (Feature Layer):\n",
      "         The polygon features to be aggregated. If this is a layer referencing\n",
      "         a representation and shape overrides are present on the input\n",
      "         features, the overridden shapes, not the feature shapes, will be\n",
      "         considered in aggregation processing.\n",
      "     aggregation_distance (Linear Unit):\n",
      "         The distance to be satisfied between polygon boundaries for\n",
      "         aggregation to happen. A distance must be specified, and it must be\n",
      "         greater than zero. You can choose a preferred unit; the default is the\n",
      "         feature unit.\n",
      "     minimum_area {Areal Unit}:\n",
      "         The minimum area for an aggregated polygon to be retained. The default\n",
      "         value is zero, that is, to keep all polygons. You can specify a\n",
      "         preferred unit; the default is the feature unit.\n",
      "     minimum_hole_size {Areal Unit}:\n",
      "         The minimum size of a polygon hole to be retained. The default value\n",
      "         is zero, that is, to keep all polygon holes. You can specify a\n",
      "         preferred unit; the default is the feature unit.\n",
      "     orthogonality_option {Boolean}:\n",
      "         Specifies the characteristic of the output features when constructing\n",
      "         the aggregated boundaries.\n",
      "    \n",
      "         * NON_ORTHOGONAL-Organically shaped output features will be created.\n",
      "         This is suitable for natural features, such as vegetation or soil\n",
      "         polygons. This is the default.\n",
      "    \n",
      "         * ORTHOGONAL-Orthogonally shaped output features will be created. This\n",
      "         option is suitable for preserving the geometric characteristic of\n",
      "         anthropogenic input features, such as building footprints.\n",
      "     barrier_features {Feature Layer}:\n",
      "         The layers containing the line or polygon features that are\n",
      "         aggregation barriers for input features. Features will not be\n",
      "         aggregated across barrier features. Barrier features that are in\n",
      "         geometric conflict with input features will be ignored.\n",
      "    \n",
      "    OUTPUTS:\n",
      "     out_feature_class (Feature Class):\n",
      "         The output feature class to be created.\n",
      "     out_table {Table}:\n",
      "         A one-to-many relationship table that links the aggregated polygons\n",
      "         to their source polygon features. This table contains two fields,\n",
      "         OUTPUT_FID and INPUT_FID, storing the aggregated feature IDs and their\n",
      "         source feature IDs, respectively. Use this table to derive necessary\n",
      "         attributes for the output features from their source features. The\n",
      "         default name for this table is the name of the output feature class,\n",
      "         appended with _tbl. The default path is the same as the output feature\n",
      "         class. No table is created when this parameter is left blank.\n",
      "\n"
     ]
    }
   ],
   "source": [
    "# Optional: Help\n",
    "help(arcpy.AggregatePolygons_cartography)"
   ]
  },
  {
   "cell_type": "code",
   "execution_count": 22,
   "metadata": {},
   "outputs": [
    {
     "data": {
      "text/plain": [
       "<Result 'c:\\\\Users\\\\kjuli\\\\PycharmProjects\\\\USGS_Geostatistics\\\\USGS_Geostatistics\\\\Output_Aggregate.shp'>"
      ]
     },
     "execution_count": 22,
     "metadata": {},
     "output_type": "execute_result"
    }
   ],
   "source": [
    "Output_Aggregate = os.path.join(os.path.dirname(notebook_path), \"Output_Aggregate.shp\")\n",
    "\n",
    "# Change parameter values:\n",
    "Aggregation_Distance = 1\n",
    "Minimum_Area = 0\n",
    "Minimum_Hole_Size = 0\n",
    "Preserve_orthogonal_shape = 'False'\n",
    "Barrier_Features = None\n",
    "\n",
    "# Run tool\n",
    "arcpy.AggregatePolygons_cartography(in_features=Output_Singlepart, out_feature_class=Output_Aggregate,\n",
    "                                    aggregation_distance=Aggregation_Distance, minimum_area=Minimum_Area,\n",
    "                                    minimum_hole_size=Minimum_Hole_Size,\n",
    "                                    orthogonality_option=Preserve_orthogonal_shape,\n",
    "                                    barrier_features=Barrier_Features)"
   ]
  },
  {
   "cell_type": "markdown",
   "metadata": {},
   "source": [
    "## Update map frame and plot points"
   ]
  },
  {
   "cell_type": "code",
   "execution_count": 23,
   "metadata": {},
   "outputs": [
    {
     "data": {
      "application/vnd.jupyter.widget-view+json": {
       "model_id": "0f8cc09a5723494eb25f2ee1da6cb108",
       "version_major": 2,
       "version_minor": 0
      },
      "text/plain": [
       "MapView(layout=Layout(height='400px', width='100%'))"
      ]
     },
     "metadata": {},
     "output_type": "display_data"
    },
    {
     "data": {
      "text/html": [
       "<div class=\"map-static-img-preview-26558075-fbed-469a-b933-3f7f3b5a34b2\"><img src=\"\"></img></div>"
      ],
      "text/plain": [
       "<IPython.core.display.HTML object>"
      ]
     },
     "metadata": {},
     "output_type": "display_data"
    }
   ],
   "source": [
    "sdf = SpatialDataFrame.from_featureclass(Output_Aggregate)\n",
    "map1 = gis.map('Nevada')\n",
    "sdf.plot(kind='map', map_widget= map1)\n",
    "map1"
   ]
  },
  {
   "cell_type": "markdown",
   "metadata": {},
   "source": [
    "## Optional: delete intermediate files"
   ]
  },
  {
   "cell_type": "code",
   "execution_count": 24,
   "metadata": {},
   "outputs": [
    {
     "data": {
      "text/plain": [
       "<Result 'true'>"
      ]
     },
     "execution_count": 24,
     "metadata": {},
     "output_type": "execute_result"
    }
   ],
   "source": [
    "# Process: Delete\n",
    "arcpy.Delete_management(Output_Singlepart, \"\")"
   ]
  },
  {
   "cell_type": "markdown",
   "metadata": {},
   "source": [
    "## Process: Simplify Polygon"
   ]
  },
  {
   "cell_type": "markdown",
   "metadata": {},
   "source": [
    "![Process: Simplify Polygon](https://i.imgur.com/DP0nlFp.png)"
   ]
  },
  {
   "cell_type": "code",
   "execution_count": null,
   "metadata": {},
   "outputs": [],
   "source": [
    "# Optional: Help\n",
    "help(arcpy.SimplifyPolygon_cartography)"
   ]
  },
  {
   "cell_type": "code",
   "execution_count": null,
   "metadata": {
    "scrolled": true
   },
   "outputs": [],
   "source": [
    "Output_Simplify = os.path.join(os.path.dirname(notebook_path), \"Output_Simplify.shp\")\n",
    "\n",
    "# Change parameter values:\n",
    "Simplification_Algorithm = 'POINT_REMOVE'\n",
    "Simplification_Tolerance = 1\n",
    "Handling_Topological_Errors = None\n",
    "Minimum_Area_2_ = 0\n",
    "Keep_collapsed_points = True\n",
    "Input_Barrier_Layers = None\n",
    "\n",
    "arcpy.SimplifyPolygon_cartography(in_features=Output_Aggregate, out_feature_class=Output_Simplify,\n",
    "                                      algorithm=Simplification_Algorithm, tolerance=Simplification_Tolerance,\n",
    "                                      minimum_area=Minimum_Area_2_, error_option=Handling_Topological_Errors,\n",
    "                                      collapsed_point_option=Keep_collapsed_points, in_barriers=Input_Barrier_Layers)[0]"
   ]
  },
  {
   "cell_type": "markdown",
   "metadata": {},
   "source": [
    "## Update map frame and plot points"
   ]
  },
  {
   "cell_type": "code",
   "execution_count": null,
   "metadata": {},
   "outputs": [],
   "source": [
    "sdf = SpatialDataFrame.from_featureclass(Output_Simplify)\n",
    "map1 = gis.map('Nevada')\n",
    "sdf.plot(kind='map', map_widget= map1)\n",
    "map1"
   ]
  },
  {
   "cell_type": "markdown",
   "metadata": {},
   "source": [
    "## Optional: delete intermediate files"
   ]
  },
  {
   "cell_type": "code",
   "execution_count": null,
   "metadata": {},
   "outputs": [],
   "source": [
    "# Process: Delete\n",
    "arcpy.Delete_management(Output_Aggregate, \"\")"
   ]
  },
  {
   "cell_type": "markdown",
   "metadata": {},
   "source": [
    "## Process: Smooth Polygon"
   ]
  },
  {
   "cell_type": "markdown",
   "metadata": {},
   "source": [
    "![Process: Smooth Polygon](https://i.imgur.com/J6o7bou.png)"
   ]
  },
  {
   "cell_type": "code",
   "execution_count": null,
   "metadata": {},
   "outputs": [],
   "source": [
    "# Optional: Help\n",
    "help(arcpy.SmoothPolygon_cartography)"
   ]
  },
  {
   "cell_type": "code",
   "execution_count": null,
   "metadata": {
    "scrolled": true
   },
   "outputs": [],
   "source": [
    "Output_Smooth = os.path.join(os.path.dirname(notebook_path), \"Output_Smooth.shp\")\n",
    "\n",
    "# Define parameters\n",
    "Smoothing_Algorithm = 'BEZIER_INTERPOLATION'\n",
    "Smoothing_Tolerance = 0\n",
    "Preserve_endpoint_for_rings = True\n",
    "Handling_Topological_Errors_2_ = None\n",
    "Input_Barrier_Layers_2_ = None\n",
    "\n",
    "arcpy.SmoothPolygon_cartography(in_features=Output_Simplify, out_feature_class=Output_Smooth,\n",
    "                                    algorithm=Smoothing_Algorithm, tolerance=Smoothing_Tolerance,\n",
    "                                    endpoint_option=Preserve_endpoint_for_rings,\n",
    "                                    error_option=Handling_Topological_Errors_2_, in_barriers=Input_Barrier_Layers_2_)"
   ]
  },
  {
   "cell_type": "markdown",
   "metadata": {},
   "source": [
    "## Update map frame and plot points"
   ]
  },
  {
   "cell_type": "code",
   "execution_count": null,
   "metadata": {},
   "outputs": [],
   "source": [
    "sdf = SpatialDataFrame.from_featureclass(Output_Smooth)\n",
    "map1 = gis.map('Nevada')\n",
    "sdf.plot(kind='map', map_widget= map1)\n",
    "map1"
   ]
  },
  {
   "cell_type": "markdown",
   "metadata": {},
   "source": [
    "## Optional: delete intermediate files"
   ]
  },
  {
   "cell_type": "code",
   "execution_count": null,
   "metadata": {},
   "outputs": [],
   "source": [
    "# Process: Delete\n",
    "arcpy.Delete_management(Output_Simplify, \"\")"
   ]
  },
  {
   "cell_type": "markdown",
   "metadata": {},
   "source": [
    "## Process: Buffer"
   ]
  },
  {
   "cell_type": "markdown",
   "metadata": {},
   "source": [
    "![Process: Buffer](https://i.imgur.com/G5hFZAo.png)"
   ]
  },
  {
   "cell_type": "code",
   "execution_count": null,
   "metadata": {},
   "outputs": [],
   "source": [
    "# Optional: Help\n",
    "help(arcpy.Buffer_analysis)"
   ]
  },
  {
   "cell_type": "code",
   "execution_count": null,
   "metadata": {
    "scrolled": true
   },
   "outputs": [],
   "source": [
    "Output_Buffer = os.path.join(os.path.dirname(notebook_path), \"Output_Buffer.shp\")\n",
    "\n",
    "# Define parameters\n",
    "Distance_value_or_field_ = 10\n",
    "Side_Type = 'FULL'\n",
    "End_Type = 'ROUND'\n",
    "Dissolve_Type = 'NONE'\n",
    "Dissolve_Field_s_ = None\n",
    "Method = 'PLANAR'\n",
    "\n",
    "arcpy.Buffer_analysis(in_features=Output_Smooth, out_feature_class=Output_Buffer,\n",
    "                          buffer_distance_or_field=Distance_value_or_field_, line_side=Side_Type,\n",
    "                          line_end_type=End_Type, dissolve_option=Dissolve_Type, dissolve_field=Dissolve_Field_s_,\n",
    "                          method=Method)"
   ]
  },
  {
   "cell_type": "markdown",
   "metadata": {},
   "source": [
    "## Update map frame and plot points"
   ]
  },
  {
   "cell_type": "code",
   "execution_count": null,
   "metadata": {},
   "outputs": [],
   "source": [
    "sdf = SpatialDataFrame.from_featureclass(Output_Buffer)\n",
    "map1 = gis.map('Nevada')\n",
    "sdf.plot(kind='map', map_widget= map1)\n",
    "map1"
   ]
  },
  {
   "cell_type": "markdown",
   "metadata": {},
   "source": [
    "## Optional: delete intermediate files"
   ]
  },
  {
   "cell_type": "code",
   "execution_count": null,
   "metadata": {},
   "outputs": [],
   "source": [
    "# Process: Delete\n",
    "arcpy.Delete_management(Output_Smooth, \"\")"
   ]
  },
  {
   "cell_type": "markdown",
   "metadata": {},
   "source": [
    "## Process: Eliminate Polygon Part"
   ]
  },
  {
   "cell_type": "markdown",
   "metadata": {},
   "source": [
    "![Process: Eliminate Polygon Part](https://i.imgur.com/ngPe4NU.png)"
   ]
  },
  {
   "cell_type": "code",
   "execution_count": null,
   "metadata": {},
   "outputs": [],
   "source": [
    "# Optional: Help\n",
    "help(arcpy.EliminatePolygonPart_management)"
   ]
  },
  {
   "cell_type": "code",
   "execution_count": null,
   "metadata": {
    "scrolled": true
   },
   "outputs": [],
   "source": [
    "Output_Finished = os.path.join(os.path.dirname(notebook_path), \"Output_Finished.shp\")\n",
    "\n",
    "# Define parameters\n",
    "Condition = 'AREA'\n",
    "Area = 0\n",
    "Percentage = 0\n",
    "Eliminate_contained_parts_only = True\n",
    "\n",
    "arcpy.EliminatePolygonPart_management(in_features=Output_Buffer, out_feature_class=Output_Finished,\n",
    "                                          condition=Condition, part_area=Area, part_area_percent=Percentage,\n",
    "                                          part_option=Eliminate_contained_parts_only)"
   ]
  },
  {
   "cell_type": "markdown",
   "metadata": {},
   "source": [
    "## Update map frame and plot points"
   ]
  },
  {
   "cell_type": "code",
   "execution_count": null,
   "metadata": {},
   "outputs": [],
   "source": [
    "sdf = SpatialDataFrame.from_featureclass(Output_Finished)\n",
    "map1 = gis.map('Nevada')\n",
    "sdf.plot(kind='map', map_widget= map1)\n",
    "map1"
   ]
  },
  {
   "cell_type": "markdown",
   "metadata": {},
   "source": [
    "## Optional: delete intermediate files"
   ]
  },
  {
   "cell_type": "code",
   "execution_count": null,
   "metadata": {},
   "outputs": [],
   "source": [
    "# Process: Delete\n",
    "arcpy.Delete_management(Output_Buffer, \"\")"
   ]
  }
 ],
 "metadata": {
  "kernelspec": {
   "display_name": "Python 3",
   "language": "python",
   "name": "python3"
  },
  "language_info": {
   "codemirror_mode": {
    "name": "ipython",
    "version": 3
   },
   "file_extension": ".py",
   "mimetype": "text/x-python",
   "name": "python",
   "nbconvert_exporter": "python",
   "pygments_lexer": "ipython3",
   "version": "3.6.9"
  }
 },
 "nbformat": 4,
 "nbformat_minor": 2
}
