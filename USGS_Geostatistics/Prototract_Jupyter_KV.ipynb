{
 "cells": [
  {
   "cell_type": "markdown",
   "metadata": {},
   "source": [
    "# Prototract Notebook - Kris Veselits"
   ]
  },
  {
   "cell_type": "markdown",
   "metadata": {},
   "source": [
    "<h1>Table of Contents<span class=\"tocSkip\"></span></h1>\n",
    "<div class=\"toc\">\n",
    "    <ul class=\"toc-item\">\n",
    "        <li><span><a href=\"#Introduction\" data-toc-modified-id=\"Introduction-1\">Introduction</a></span>\n",
    "            <ul class=\"toc-item\">\n",
    "                <li><span><a href=\"#USGS-Prototract-Tool\" data-toc-modified-id=\"Description-1.1\">USGS Prototract Tool</a></span>\n",
    "                </li>\n",
    "                <li><span><a href=\"#Tips\" data-toc-modified-id=\"Tips-1.2\">Tips</a></span>\n",
    "                </li>\n",
    "            </ul>\n",
    "        </li>\n",
    "        <li><span><a href=\"#Connect-to-your-GIS\" data-toc-modified-id=\"Connect-to-your-GIS-2\">Connect to your\n",
    "                    GIS</a></span></li>\n",
    "        <li><span><a href=\"#Loading-input-and-output-files\" data-toc-modified-id=\"Enter-path-to-input-feature-3\">Loading\n",
    "                    Input File Options</a></span></li>\n",
    "        <li><span><a href=\"#Setting-the-path-to-output-feature,-optional\"\n",
    "                    data-toc-modified-id=\"Setting-the-path-to-output-feature-optional-4\">Setting the Path to Output\n",
    "                    Feature - Optional</a></span></li>\n",
    "        <li><span><a href=\"#Process:-Union\" data-toc-modified-id=\"Process-Union-5\">Process: Union</a></span></li>\n",
    "        <li><span><a href=\"#Process:-Multipart-To-Singlepart\"\n",
    "                    data-toc-modified-id=\"Process:-Multipart-To-Singlepart-6\">Process: Multipart to Singlepart</a></span>\n",
    "        </li>\n",
    "        <li><span><a href=\"#Process:-Aggregate-Polygons\" data-toc-modified-id=\"#Process-Aggregate-Polygons-7\">Process:\n",
    "                    Aggregate Polygons</a></span></li>\n",
    "        <li><span><a href=\"#Process:-Simplify-Polygon\" data-toc-modified-id=\"#Process-Simplify-Polygon-8\">Process:\n",
    "                    Simpligy Polygon</a></span></li>\n",
    "        <li><span><a href=\"#Process:-Smooth-Polygon\" data-toc-modified-id=\"#Process-Smooth-Polygon-9\">Process: Smooth\n",
    "                    Polygon</a></span></li>\n",
    "        <li><span><a href=\"#Process:-Buffer\" data-toc-modified-id=\"#Process-Buffer-10\">Process: Buffer</a></span></li>\n",
    "        <li><span><a href=\"#Process:-Eliminate-Polygon-Part\"\n",
    "                    data-toc-modified-id=\"#Process-Eliminate-Polygon-Part-11\">Process: Eliminate Polygon Part</a></span>\n",
    "        </li>\n",
    "\n",
    "</div>"
   ]
  },
  {
   "cell_type": "markdown",
   "metadata": {},
   "source": [
    "# Introduction"
   ]
  },
  {
   "cell_type": "markdown",
   "metadata": {},
   "source": [
    "## USGS Prototract Tool"
   ]
  },
  {
   "cell_type": "markdown",
   "metadata": {},
   "source": [
    "TODO: Write tool description"
   ]
  },
  {
   "cell_type": "markdown",
   "metadata": {},
   "source": [
    "## Tips\n"
   ]
  },
  {
   "cell_type": "markdown",
   "metadata": {},
   "source": [
    "<ul><li>To view keyboard shortcuts, select \"Help -> Keyboard Shortcuts\" from the menu bar</li>\n",
    "<li>After partially typing, press tab to bring up autocomplete when trying to remember commands/libraries</li>\n",
    "<li>When trying to remember which parameters a method requires, press shift + tab within the paranthesis</li></ul>"
   ]
  },
  {
   "cell_type": "markdown",
   "metadata": {},
   "source": [
    "# Connect to your GIS"
   ]
  },
  {
   "cell_type": "markdown",
   "metadata": {},
   "source": [
    "## Important: Run the cell below first"
   ]
  },
  {
   "cell_type": "markdown",
   "metadata": {},
   "source": [
    "Establish a connection to your organization which could be an ArcGIS Online organization or an ArcGIS Enterprise. To be able to run the code using ArcGIS API for Python, you would need to provide credentials of a user within an ArcGIS Online organization."
   ]
  },
  {
   "cell_type": "code",
   "execution_count": 3,
   "metadata": {},
   "outputs": [],
   "source": [
    "#File selection requires ipyfilechooser -- install from Python Command Prompt using:\n",
    "#\"pip install ipyfilechooser\"\n",
    "\n",
    "from arcgis import GIS\n",
    "from arcgis.features import GeoAccessor, GeoSeriesAccessor\n",
    "from contextlib import redirect_stdout\n",
    "from ipywidgets import interactive\n",
    "from IPython.display import display\n",
    "from ipyfilechooser import FileChooser\n",
    "import arcpy, os, io, pandas as pd\n",
    "import ipywidgets as widgets\n",
    "\n",
    "gis = GIS() # Create portal connection.\n",
    "\n",
    "# Output path will default to the folder that contains the Notebook.ipynb\n",
    "notebook_path = os.path.abspath(\"Prototract_Jupyter_KV.ipynb\")\n",
    "out_file = os.path.join(os.path.dirname(notebook_path), \"out_file.shp\")\n",
    "Output_Finished = os.path.join(os.path.dirname(notebook_path), \"Output_Finished.shp\")\n",
    "\n",
    "# function for displaying tool help\n",
    "def help_string(tool, num, num1=0):\n",
    "    f = io.StringIO()\n",
    "    with redirect_stdout(f):\n",
    "        out = \"\"\n",
    "        help(tool)\n",
    "        for line in (f.getvalue()).splitlines()[num1:num]:\n",
    "            out += line + os.linesep\n",
    "    return out"
   ]
  },
  {
   "cell_type": "code",
   "execution_count": 2,
   "metadata": {},
   "outputs": [],
   "source": [
    "# To allow overwriting outputs change overwriteOutput option from False to True.\n",
    "# If this is set to True, existing files with the same filename will be overwritten/lost.\n",
    "arcpy.env.overwriteOutput = True"
   ]
  },
  {
   "cell_type": "code",
   "execution_count": 3,
   "metadata": {
    "scrolled": true
   },
   "outputs": [
    {
     "data": {
      "text/plain": [
       "<function Union at 0x000001C35FB14B70>"
      ]
     },
     "execution_count": 3,
     "metadata": {},
     "output_type": "execute_result"
    }
   ],
   "source": [
    "# Place cursor after method call and press shift + tab to see required parameters.\n",
    "# Running this cell without specifying parameters will also display required parameters.\n",
    "\n",
    "#help(arcpy.Union_analysis)\n",
    "arcpy.Union_analysis"
   ]
  },
  {
   "cell_type": "markdown",
   "metadata": {},
   "source": [
    "# Loading input and output files"
   ]
  },
  {
   "cell_type": "markdown",
   "metadata": {},
   "source": [
    "## 1. Select input file location"
   ]
  },
  {
   "cell_type": "code",
   "execution_count": 4,
   "metadata": {},
   "outputs": [
    {
     "data": {
      "application/vnd.jupyter.widget-view+json": {
       "model_id": "20f150e8063d4650876280648759ba08",
       "version_major": 2,
       "version_minor": 0
      },
      "text/plain": [
       "FileChooser(path='C:\\Users\\kjuli\\PycharmProjects\\USGS_Geostatistics\\USGS_Geostatistics', filename='', show_hid…"
      ]
     },
     "metadata": {},
     "output_type": "display_data"
    }
   ],
   "source": [
    "# Create and display a FileChooser widget\n",
    "input_file = FileChooser()\n",
    "display(input_file)"
   ]
  },
  {
   "cell_type": "code",
   "execution_count": 5,
   "metadata": {},
   "outputs": [
    {
     "name": "stdout",
     "output_type": "stream",
     "text": [
      "C:\\Users\\kjuli\\PycharmProjects\\USGS_Geostatistics\\USGS_Geostatistics\\Prototract\\Input\n",
      "Initial_tracts.shp\n",
      "C:\\Users\\kjuli\\PycharmProjects\\USGS_Geostatistics\\USGS_Geostatistics\\Prototract\\Input\\Initial_tracts.shp\n",
      "C:\\Users\\kjuli\\PycharmProjects\\USGS_Geostatistics\\USGS_Geostatistics\\Prototract\\Input\\Initial_tracts.shp\n"
     ]
    }
   ],
   "source": [
    "# Print the selected path, filename, or both (Optional)\n",
    "print(input_file.selected_path)\n",
    "print(input_file.selected_filename)\n",
    "print(input_file.selected)\n",
    "\n",
    "in_file = str(input_file.selected)\n",
    "print(in_file)"
   ]
  },
  {
   "cell_type": "markdown",
   "metadata": {},
   "source": [
    "### 2. Select output file location (optional)\n",
    "Note: Output path will default to the folder that contains the Notebook.ipynb unless the cell below is run."
   ]
  },
  {
   "cell_type": "code",
   "execution_count": 6,
   "metadata": {},
   "outputs": [
    {
     "data": {
      "application/vnd.jupyter.widget-view+json": {
       "model_id": "842f5c2d2acf4535afc578f22a02451f",
       "version_major": 2,
       "version_minor": 0
      },
      "text/plain": [
       "FileChooser(path='C:\\Users\\kjuli\\PycharmProjects\\USGS_Geostatistics\\USGS_Geostatistics', filename='', show_hid…"
      ]
     },
     "metadata": {},
     "output_type": "display_data"
    }
   ],
   "source": [
    "# Create and display a FileChooser widget\n",
    "output_file = FileChooser()\n",
    "display(output_file)"
   ]
  },
  {
   "cell_type": "code",
   "execution_count": 184,
   "metadata": {},
   "outputs": [
    {
     "ename": "NameError",
     "evalue": "name 'output_file' is not defined",
     "output_type": "error",
     "traceback": [
      "\u001b[0;31m---------------------------------------------------------------------------\u001b[0m\n\u001b[0;31mNameError\u001b[0m                                 Traceback (most recent call last)",
      "In  \u001b[0;34m[184]\u001b[0m:\nLine \u001b[0;34m2\u001b[0m:     \u001b[36mprint\u001b[39;49;00m(output_file.selected_path)\n",
      "\u001b[0;31mNameError\u001b[0m: name 'output_file' is not defined\n\u001b[0;31m---------------------------------------------------------------------------\u001b[0m"
     ]
    }
   ],
   "source": [
    "# Print the selected path, filename, or both\n",
    "print(output_file.selected_path)\n",
    "print(output_file.selected_filename)\n",
    "print(output_file.selected)\n",
    "\n",
    "out_file = str(output_file.selected)\n",
    "print(out_file)"
   ]
  },
  {
   "cell_type": "markdown",
   "metadata": {},
   "source": [
    "## Process: Union"
   ]
  },
  {
   "cell_type": "markdown",
   "metadata": {},
   "source": [
    "### Gather Parameters\n",
    "Run cell below and scroll down for interactive parameter selection"
   ]
  },
  {
   "cell_type": "code",
   "execution_count": 8,
   "metadata": {},
   "outputs": [
    {
     "data": {
      "text/plain": [
       "'Finished. Run cell below to continue.'"
      ]
     },
     "metadata": {},
     "output_type": "display_data"
    }
   ],
   "source": [
    "options=[\n",
    "    ['Centimeters','DecimalDegrees', 'Decimeters', 'Feet', 'Inches', 'Kilometers',\n",
    "    'Meters','Miles','Millimeters','NauticalMiles','Points', 'Yards','Unknown']]\n",
    "style=dict(description_width='initial')\n",
    "\n",
    "_dropdown = widgets.Dropdown()\n",
    "_dropdown.value = None\n",
    "_dropdown.options = ['All','NO_FID', 'ONLY_FID']\n",
    "_dropdown.description = \"Attributes To Join\"\n",
    "_dropdown.style = style\n",
    "\n",
    "_checkbox = widgets.Checkbox()\n",
    "_checkbox.value=False\n",
    "_checkbox.description=\"Gaps Allowed\"\n",
    "_checkbox.indent=False\n",
    "\n",
    "def f(a, b):\n",
    "    display(\"Finished. Run cell below to continue.\")\n",
    "    return (str(a) + \" \" + str(b))\n",
    "\n",
    "_linear_unit = interactive(f, {'manual': True}, a = widgets.IntText(\n",
    "    value=None,\n",
    "    description='Linear Unit Value',\n",
    "    style=style\n",
    "), b = widgets.Dropdown(\n",
    "    options=options[0],\n",
    "    value=None,\n",
    "    description='Linear Unit Type',\n",
    "    style=style\n",
    "))\n",
    "\n",
    "display(_checkbox)\n",
    "display(_dropdown)\n",
    "display(_linear_unit)"
   ]
  },
  {
   "cell_type": "code",
   "execution_count": 12,
   "metadata": {
    "scrolled": true
   },
   "outputs": [
    {
     "data": {
      "text/plain": [
       "<Result 'C:\\\\Users\\\\kjuli\\\\PycharmProjects\\\\USGS_Geostatistics\\\\USGS_Geostatistics\\\\out_file.shp'>"
      ]
     },
     "execution_count": 12,
     "metadata": {},
     "output_type": "execute_result"
    }
   ],
   "source": [
    "print(_checkbox.value), print(_dropdown.value), print(_linear_unit.result)\n",
    "\n",
    "join_attributes = _dropdown.value\n",
    "\n",
    "cluster_tolerance = _linear_unit.result\n",
    "if(\"None\" in cluster_tolerance):\n",
    "    cluster_tolerance = None\n",
    "    \n",
    "gaps = _checkbox.value\n",
    "\n",
    "# Place cursor at end of method name (arcpy.Union_analysis) and press \"shift + tab\" for help\n",
    "arcpy.Union_analysis(in_file, out_file, join_attributes, cluster_tolerance, gaps)"
   ]
  },
  {
   "cell_type": "markdown",
   "metadata": {},
   "source": [
    "### Create map frame and plot points"
   ]
  },
  {
   "cell_type": "code",
   "execution_count": 13,
   "metadata": {
    "scrolled": true
   },
   "outputs": [
    {
     "data": {
      "application/vnd.jupyter.widget-view+json": {
       "model_id": "67ac3a5729364ce293c17b404f2bb9b6",
       "version_major": 2,
       "version_minor": 0
      },
      "text/plain": [
       "MapView(layout=Layout(height='400px', width='100%'))"
      ]
     },
     "metadata": {},
     "output_type": "display_data"
    },
    {
     "data": {
      "text/html": [
       "<div class=\"map-static-img-preview-7cc283fa-29f7-44d9-9dfc-8cf474cfd764\"><img src=\"\"></img></div>"
      ],
      "text/plain": [
       "<display.HTML object>"
      ]
     },
     "metadata": {},
     "output_type": "display_data"
    }
   ],
   "source": [
    "import pandas as pd\n",
    "sdf = pd.DataFrame.spatial.from_featureclass(out_file)\n",
    "sdf.tail()\n",
    "map1 = gis.map('California')\n",
    "sdf.spatial.plot(map_widget= map1)\n",
    "map1"
   ]
  },
  {
   "cell_type": "markdown",
   "metadata": {},
   "source": [
    "## Process: Multipart To Singlepart"
   ]
  },
  {
   "cell_type": "code",
   "execution_count": 14,
   "metadata": {},
   "outputs": [
    {
     "data": {
      "text/plain": [
       "<Result 'C:\\\\Users\\\\kjuli\\\\PycharmProjects\\\\USGS_Geostatistics\\\\USGS_Geostatistics\\\\Output_Singlepart.shp'>"
      ]
     },
     "execution_count": 14,
     "metadata": {},
     "output_type": "execute_result"
    }
   ],
   "source": [
    "# Place cursor at end of method name (arcpy.Union_analysis) and press \"shift + tab\" for help\n",
    "\n",
    "Output_Singlepart = os.path.join(os.path.dirname(out_file), \"Output_Singlepart.shp\")\n",
    "arcpy.MultipartToSinglepart_management(in_features=out_file, out_feature_class=Output_Singlepart)"
   ]
  },
  {
   "cell_type": "markdown",
   "metadata": {},
   "source": [
    "## Update map frame and plot points"
   ]
  },
  {
   "cell_type": "code",
   "execution_count": 196,
   "metadata": {},
   "outputs": [
    {
     "data": {
      "application/vnd.jupyter.widget-view+json": {
       "model_id": "ad6a2401815941a7a44dbe0e4268be35",
       "version_major": 2,
       "version_minor": 0
      },
      "text/plain": [
       "MapView(layout=Layout(height='400px', width='100%'))"
      ]
     },
     "metadata": {},
     "output_type": "display_data"
    },
    {
     "data": {
      "text/html": [
       "<div class=\"map-static-img-preview-b40a4eb9-59c4-4aeb-99e4-e842a368545f\"><img src=\"\"></img></div>"
      ],
      "text/plain": [
       "<display.HTML object>"
      ]
     },
     "metadata": {},
     "output_type": "display_data"
    }
   ],
   "source": [
    "sdf = pd.DataFrame.spatial.from_featureclass(Output_Singlepart)\n",
    "sdf.tail()\n",
    "map1 = gis.map('California')\n",
    "sdf.spatial.plot(map_widget= map1)\n",
    "map1"
   ]
  },
  {
   "cell_type": "markdown",
   "metadata": {},
   "source": [
    "## Optional: delete intermediate files"
   ]
  },
  {
   "cell_type": "code",
   "execution_count": 195,
   "metadata": {},
   "outputs": [
    {
     "data": {
      "text/plain": [
       "<Result 'true'>"
      ]
     },
     "execution_count": 195,
     "metadata": {},
     "output_type": "execute_result"
    }
   ],
   "source": [
    "# Process: Delete\n",
    "arcpy.Delete_management(out_file, \"\")"
   ]
  },
  {
   "cell_type": "markdown",
   "metadata": {},
   "source": [
    "## Process: Aggregate Polygons"
   ]
  },
  {
   "cell_type": "markdown",
   "metadata": {},
   "source": [
    "![Process: Aggregate Polygons](https://i.imgur.com/K9U3WZC.png)"
   ]
  },
  {
   "cell_type": "code",
   "execution_count": 15,
   "metadata": {},
   "outputs": [
    {
     "name": "stdout",
     "output_type": "stream",
     "text": [
      "Barrier Features (leave \"No file selected\" to not use)\n"
     ]
    },
    {
     "data": {
      "application/vnd.jupyter.widget-view+json": {
       "model_id": "d125d74ffba744ab917a25222bfe6daf",
       "version_major": 2,
       "version_minor": 0
      },
      "text/plain": [
       "FileChooser(path='C:\\Users\\kjuli\\PycharmProjects\\USGS_Geostatistics\\USGS_Geostatistics', filename='', show_hid…"
      ]
     },
     "metadata": {},
     "output_type": "display_data"
    },
    {
     "name": "stdout",
     "output_type": "stream",
     "text": [
      "Aggregation Distance\n"
     ]
    },
    {
     "data": {
      "application/vnd.jupyter.widget-view+json": {
       "model_id": "d87cc1f4f3f44f57b80afc567a5777be",
       "version_major": 2,
       "version_minor": 0
      },
      "text/plain": [
       "Text(value='0', description='Value:', style=DescriptionStyle(description_width='initial'))"
      ]
     },
     "metadata": {},
     "output_type": "display_data"
    },
    {
     "data": {
      "application/vnd.jupyter.widget-view+json": {
       "model_id": "41cab16aff3c4e28bc4fa837172c5c49",
       "version_major": 2,
       "version_minor": 0
      },
      "text/plain": [
       "Dropdown(description='Units:', options=('Centimeters', 'DecimalDegrees', 'Decimeters', 'Feet', 'Inches', 'Kilo…"
      ]
     },
     "metadata": {},
     "output_type": "display_data"
    },
    {
     "name": "stdout",
     "output_type": "stream",
     "text": [
      "Minimum Area\n"
     ]
    },
    {
     "data": {
      "application/vnd.jupyter.widget-view+json": {
       "model_id": "ad33d3dc1cbf401db421b90f906d1980",
       "version_major": 2,
       "version_minor": 0
      },
      "text/plain": [
       "Text(value='None', description='Value:', style=DescriptionStyle(description_width='initial'))"
      ]
     },
     "metadata": {},
     "output_type": "display_data"
    },
    {
     "data": {
      "application/vnd.jupyter.widget-view+json": {
       "model_id": "dbbd927e1509434582bdcdeba5552ff1",
       "version_major": 2,
       "version_minor": 0
      },
      "text/plain": [
       "Dropdown(description='Units', options=('None', 'acres', 'ares', 'hectares', 'SquareCentimeters', 'SquareDecime…"
      ]
     },
     "metadata": {},
     "output_type": "display_data"
    },
    {
     "name": "stdout",
     "output_type": "stream",
     "text": [
      "Minimum Hole Size\n"
     ]
    },
    {
     "data": {
      "application/vnd.jupyter.widget-view+json": {
       "model_id": "07e816a4f88c47dc84fda623795900a8",
       "version_major": 2,
       "version_minor": 0
      },
      "text/plain": [
       "Text(value='None', description='Value:', style=DescriptionStyle(description_width='initial'))"
      ]
     },
     "metadata": {},
     "output_type": "display_data"
    },
    {
     "data": {
      "application/vnd.jupyter.widget-view+json": {
       "model_id": "608551927c064ce6b4409aed71122ece",
       "version_major": 2,
       "version_minor": 0
      },
      "text/plain": [
       "Dropdown(description='Units:', options=('None', 'acres', 'ares', 'hectares', 'SquareCentimeters', 'SquareDecim…"
      ]
     },
     "metadata": {},
     "output_type": "display_data"
    },
    {
     "data": {
      "application/vnd.jupyter.widget-view+json": {
       "model_id": "8c59fbad5eaa4b728e1e8aadb15dbb27",
       "version_major": 2,
       "version_minor": 0
      },
      "text/plain": [
       "Checkbox(value=False, description='Preserve Orthogonal Shape', indent=False)"
      ]
     },
     "metadata": {},
     "output_type": "display_data"
    }
   ],
   "source": [
    "Output_Aggregate = os.path.join(os.path.dirname(Output_Singlepart), \"Output_Aggregate.shp\")\n",
    "Output_Table = os.path.join(os.path.dirname(Output_Singlepart), \"Output_Aggregate_tbl.shp\")\n",
    "\n",
    "a = widgets.Text(\n",
    "    value=\"0\",\n",
    "    description='Value:',\n",
    "    style=dict(description_width='initial'),\n",
    "    disabled=False\n",
    ")\n",
    "\n",
    "b = widgets.Dropdown(\n",
    "    options=['Centimeters','DecimalDegrees', 'Decimeters', 'Feet', 'Inches', 'Kilometers',\n",
    "             'Meters','Miles','Millimeters','NauticalMiles','Points', 'Unknown', 'Yards'],\n",
    "    value='Centimeters',\n",
    "    description='Units:',\n",
    "    style=dict(description_width='initial'),\n",
    "    disabled=False\n",
    ")\n",
    "\n",
    "\n",
    "c = widgets.Text(\n",
    "    value=\"None\",\n",
    "    description='Value:',\n",
    "    style=dict(description_width='initial'),\n",
    "    disabled=False\n",
    ")\n",
    "\n",
    "d = widgets.Dropdown(\n",
    "    options=['None','acres', 'ares','hectares', 'SquareCentimeters','SquareDecimeters',\n",
    "             'SquareInches','SquareFeet','SquareKilometers','SquareMeters',\n",
    "             'SquareMiles','SquareMillimeters','SquareYards','SquareMapUnits','unknown'],\n",
    "    value='None',\n",
    "    description='Units',\n",
    "    style=dict(description_width='initial'),\n",
    "    disabled=False\n",
    ")\n",
    "\n",
    "e = widgets.Text(\n",
    "    value=\"None\",\n",
    "    description='Value:',\n",
    "    style=dict(description_width='initial'),\n",
    "    disabled=False\n",
    ")\n",
    "\n",
    "f = widgets.Dropdown(\n",
    "    options=['None', 'acres', 'ares','hectares', 'SquareCentimeters','SquareDecimeters',\n",
    "             'SquareInches','SquareFeet','SquareKilometers','SquareMeters',\n",
    "             'SquareMiles','SquareMillimeters','SquareYards','SquareMapUnits','unknown'],\n",
    "    value='None',\n",
    "    description='Units:',\n",
    "    style=dict(description_width='initial'),\n",
    "    disabled=False\n",
    ")\n",
    "\n",
    "g = widgets.Checkbox(\n",
    "    value=False,\n",
    "    description='Preserve Orthogonal Shape',\n",
    "    disabled=False,\n",
    "    indent=False\n",
    ")\n",
    "\n",
    "# Create and display a FileChooser widget\n",
    "print(\"Barrier Features (leave \\\"No file selected\\\" to not use)\")\n",
    "barrier = FileChooser()\n",
    "display(barrier)\n",
    "\n",
    "print(\"Aggregation Distance\")\n",
    "display(a)\n",
    "display(b)\n",
    "print(\"Minimum Area\")\n",
    "display(c)\n",
    "display(d)\n",
    "print(\"Minimum Hole Size\")\n",
    "display(e)\n",
    "display(f)\n",
    "display(g)"
   ]
  },
  {
   "cell_type": "code",
   "execution_count": 20,
   "metadata": {},
   "outputs": [
    {
     "data": {
      "text/plain": [
       "<Result 'C:\\\\Users\\\\kjuli\\\\PycharmProjects\\\\USGS_Geostatistics\\\\USGS_Geostatistics\\\\Output_Aggregate.shp'>"
      ]
     },
     "execution_count": 20,
     "metadata": {},
     "output_type": "execute_result"
    }
   ],
   "source": [
    "Aggregation_Distance = a.value + \" \" + b.value\n",
    "\n",
    "Minimum_Area = c.value + \" \" + d.value\n",
    "if(\"None\" in Minimum_Area):\n",
    "    Minimum_Area = None\n",
    "\n",
    "Minimum_Hole_Size = e.value + \" \" + f.value\n",
    "if(\"None\" in Minimum_Hole_Size):\n",
    "    Minimum_Hole_Size = None\n",
    "\n",
    "Preserve_orthogonal_shape = g.value\n",
    "\n",
    "Barrier_Features = barrier.selected\n",
    "\n",
    "# Place cursor at end of method name (arcpy.Union_analysis) and press \"shift + tab\" for help\n",
    "arcpy.AggregatePolygons_cartography(\n",
    "    in_features=Output_Singlepart, \n",
    "    out_feature_class=Output_Aggregate,\n",
    "    aggregation_distance=Aggregation_Distance,\n",
    "    minimum_area=Minimum_Area,\n",
    "    minimum_hole_size=Minimum_Hole_Size,\n",
    "    orthogonality_option=Preserve_orthogonal_shape,\n",
    "    barrier_features=Barrier_Features)"
   ]
  },
  {
   "cell_type": "markdown",
   "metadata": {},
   "source": [
    "## Update map frame and plot points"
   ]
  },
  {
   "cell_type": "code",
   "execution_count": null,
   "metadata": {},
   "outputs": [],
   "source": [
    "sdf = pd.DataFrame.spatial.from_featureclass(Output_Aggregate)\n",
    "sdf.tail()\n",
    "map1 = gis.map('United States')\n",
    "sdf.spatial.plot(map_widget= map1)\n",
    "map1"
   ]
  },
  {
   "cell_type": "markdown",
   "metadata": {},
   "source": [
    "## Optional: delete intermediate files"
   ]
  },
  {
   "cell_type": "code",
   "execution_count": 24,
   "metadata": {},
   "outputs": [
    {
     "data": {
      "text/plain": [
       "<Result 'true'>"
      ]
     },
     "execution_count": 24,
     "metadata": {},
     "output_type": "execute_result"
    }
   ],
   "source": [
    "# Process: Delete\n",
    "arcpy.Delete_management(Output_Singlepart, \"\")"
   ]
  },
  {
   "cell_type": "markdown",
   "metadata": {},
   "source": [
    "## Process: Simplify Polygon"
   ]
  },
  {
   "cell_type": "markdown",
   "metadata": {},
   "source": [
    "![Process: Simplify Polygon](https://i.imgur.com/sfuA5H6.png)"
   ]
  },
  {
   "cell_type": "code",
   "execution_count": 11,
   "metadata": {},
   "outputs": [
    {
     "name": "stdout",
     "output_type": "stream",
     "text": [
      "Barrier Features (leave \"No file selected\" to not use)\n"
     ]
    },
    {
     "data": {
      "application/vnd.jupyter.widget-view+json": {
       "model_id": "f9ff1a890c7e4e93b3bb5f89b926b618",
       "version_major": 2,
       "version_minor": 0
      },
      "text/plain": [
       "FileChooser(path='C:\\Users\\kjuli\\PycharmProjects\\USGS_Geostatistics\\USGS_Geostatistics', filename='', show_hid…"
      ]
     },
     "metadata": {},
     "output_type": "display_data"
    },
    {
     "data": {
      "application/vnd.jupyter.widget-view+json": {
       "model_id": "23ec5f6ba9974122bdcc43d19733d34c",
       "version_major": 2,
       "version_minor": 0
      },
      "text/plain": [
       "Dropdown(description='Attributes To Join:', options=('POINT_REMOVE', 'BEND_SIMPLIFY', 'WEIGHTED_AREA', 'EFFECT…"
      ]
     },
     "metadata": {},
     "output_type": "display_data"
    },
    {
     "data": {
      "application/vnd.jupyter.widget-view+json": {
       "model_id": "5bc4e14ee51845f3890e5711cb8f0fa7",
       "version_major": 2,
       "version_minor": 0
      },
      "text/plain": [
       "interactive(children=(IntText(value=0, description='Linear Unit Value', style=DescriptionStyle(description_wid…"
      ]
     },
     "metadata": {},
     "output_type": "display_data"
    },
    {
     "data": {
      "application/vnd.jupyter.widget-view+json": {
       "model_id": "c78db598a98149c193c99d8b7b0ee770",
       "version_major": 2,
       "version_minor": 0
      },
      "text/plain": [
       "Checkbox(value=True, description='Keep collapsed points (Specifies whether to create an output point feature c…"
      ]
     },
     "metadata": {},
     "output_type": "display_data"
    }
   ],
   "source": [
    "Output_Simplify = os.path.join(os.path.dirname(notebook_path), \"Output_Simplify.shp\")\n",
    "\n",
    "_Simplification_Algorithm = widgets.Dropdown(\n",
    "    options=['POINT_REMOVE', 'BEND_SIMPLIFY', 'WEIGHTED_AREA', 'EFFECTIVE_AREA'],\n",
    "    value='POINT_REMOVE',\n",
    "    description='Attributes To Join:',\n",
    "    style=dict(description_width='initial')\n",
    ")\n",
    "\n",
    "def g(a, b, c, d):\n",
    "    display(\"Finished. Run cell below to continue.\")\n",
    "    return([a,b,c,d])\n",
    "\n",
    "_Units = interactive(g, {'manual': True},a = widgets.IntText(\n",
    "    value=0,\n",
    "    description='Linear Unit Value',\n",
    "    style=dict(description_width='initial')\n",
    "), b = widgets.Dropdown(\n",
    "    options=['Centimeters','DecimalDegrees', 'Decimeters', 'Feet', 'Inches', 'Kilometers',\n",
    "             'Meters','Miles','Millimeters','NauticalMiles','Points', 'Unknown', 'Yards'],\n",
    "    value='Unknown',\n",
    "    description='Linear Unit Type:',\n",
    "    style=dict(description_width='initial'),\n",
    "), c = widgets.IntText(\n",
    "    value=None,\n",
    "    description='Value:',\n",
    "    style=dict(description_width='initial'),\n",
    "    disabled=False\n",
    "),d = widgets.Dropdown(\n",
    "    options=['acres', 'ares','hectares', 'SquareCentimeters','SquareDecimeters',\n",
    "             'SquareInches','SquareFeet','SquareKilometers','SquareMeters',\n",
    "             'SquareMiles','SquareMillimeters','SquareYards','SquareMapUnits','Unknown'],\n",
    "    value='Unknown',\n",
    "    description='Units:',\n",
    "    style=dict(description_width='initial')\n",
    "   ))\n",
    "\n",
    "_Keep_collapsed_points = widgets.Checkbox(\n",
    "    value=True,\n",
    "    description='Keep collapsed points (Specifies whether to create an output point feature class to store the centers of polygons that are removed because they are smaller than the Minimum area parameter. The point output is derived; it will use the same name and location as the Output feature class parameter but with a _Pnt suffix)',\n",
    "    indent=False\n",
    ")\n",
    "\n",
    "# Create and display a FileChooser widget\n",
    "print(\"Barrier Features (leave \\\"No file selected\\\" to not use)\")\n",
    "barrier = FileChooser()\n",
    "display(barrier)\n",
    "display(_Simplification_Algorithm)\n",
    "display(_Units)\n",
    "display(_Keep_collapsed_points)"
   ]
  },
  {
   "cell_type": "code",
   "execution_count": 37,
   "metadata": {
    "scrolled": true
   },
   "outputs": [
    {
     "data": {
      "text/plain": [
       "'C:\\\\Users\\\\kjuli\\\\PycharmProjects\\\\USGS_Geostatistics\\\\USGS_Geostatistics\\\\Output_Simplify.shp'"
      ]
     },
     "execution_count": 37,
     "metadata": {},
     "output_type": "execute_result"
    }
   ],
   "source": [
    "Simplification_Algorithm = _Simplification_Algorithm.value\n",
    "\n",
    "Simplification_Tolerance = str(_Units.result[0]) + \" \" + str(_Units.result[1])\n",
    "if(\"None\" in Simplification_Tolerance):\n",
    "    Simplification_Tolerance = None\n",
    "\n",
    "Minimum_Area_2 = str(_Units.result[2]) + \" \" + str(_Units.result[3])\n",
    "if(\"None\" in Minimum_Area_2):\n",
    "    Minimum_Area_2 = None\n",
    "\n",
    "Keep_collapsed_points = _Keep_collapsed_points.value\n",
    "\n",
    "Input_Barrier_Layers = barrier.selected\n",
    "\n",
    "# Place cursor at end of method name (arcpy.Union_analysis) and press \"shift + tab\" for help\n",
    "arcpy.SimplifyPolygon_cartography(in_features=Output_Aggregate, out_feature_class=Output_Simplify,\n",
    "                                      algorithm=Simplification_Algorithm, tolerance=Simplification_Tolerance,\n",
    "                                      minimum_area=Minimum_Area_2,\n",
    "                                      collapsed_point_option=Keep_collapsed_points, in_barriers=Input_Barrier_Layers)[0]"
   ]
  },
  {
   "cell_type": "markdown",
   "metadata": {},
   "source": [
    "## Update map frame and plot points"
   ]
  },
  {
   "cell_type": "code",
   "execution_count": null,
   "metadata": {},
   "outputs": [],
   "source": [
    "sdf = pd.DataFrame.spatial.from_featureclass(Output_Simplify)\n",
    "sdf.tail()\n",
    "map1 = gis.map('United States')\n",
    "sdf.spatial.plot(map_widget= map1)\n",
    "map1"
   ]
  },
  {
   "cell_type": "markdown",
   "metadata": {},
   "source": [
    "## Optional: delete intermediate files"
   ]
  },
  {
   "cell_type": "code",
   "execution_count": null,
   "metadata": {},
   "outputs": [],
   "source": [
    "# Process: Delete\n",
    "arcpy.Delete_management(Output_Aggregate, \"\")"
   ]
  },
  {
   "cell_type": "code",
   "execution_count": null,
   "metadata": {},
   "outputs": [],
   "source": [
    "# Process: Delete optional collapsed points\n",
    "arcpy.Delete_management(Keep_collapsed_points, \"\")"
   ]
  },
  {
   "cell_type": "markdown",
   "metadata": {},
   "source": [
    "## Process: Smooth Polygon"
   ]
  },
  {
   "cell_type": "markdown",
   "metadata": {},
   "source": [
    "![Process: Smooth Polygon](https://i.imgur.com/J6o7bou.png)"
   ]
  },
  {
   "cell_type": "code",
   "execution_count": 4,
   "metadata": {},
   "outputs": [
    {
     "name": "stdout",
     "output_type": "stream",
     "text": [
      "Barrier Features (leave \"No file selected\" to not use)\n"
     ]
    },
    {
     "data": {
      "application/vnd.jupyter.widget-view+json": {
       "model_id": "b783616ed3bb4fa390ac492529bce29b",
       "version_major": 2,
       "version_minor": 0
      },
      "text/plain": [
       "FileChooser(path='C:\\Users\\kjuli\\PycharmProjects\\USGS_Geostatistics\\USGS_Geostatistics', filename='', show_hid…"
      ]
     },
     "metadata": {},
     "output_type": "display_data"
    },
    {
     "data": {
      "application/vnd.jupyter.widget-view+json": {
       "model_id": "5be7f8b9e71a47158476bf8eba4f4adb",
       "version_major": 2,
       "version_minor": 0
      },
      "text/plain": [
       "Dropdown(description='Smoothing Algorithm:', options=('PAEK', 'BEZIER_INTERPOLATION'), style=DescriptionStyle(…"
      ]
     },
     "metadata": {},
     "output_type": "display_data"
    },
    {
     "data": {
      "application/vnd.jupyter.widget-view+json": {
       "model_id": "35aca4ed96514b959eefa7a9372c9624",
       "version_major": 2,
       "version_minor": 0
      },
      "text/plain": [
       "Dropdown(description='Handling Topological Errors:', options=('NO_CHECK', 'FLAG_ERRORS', 'RESOLVE_ERRORS'), st…"
      ]
     },
     "metadata": {},
     "output_type": "display_data"
    },
    {
     "name": "stdout",
     "output_type": "stream",
     "text": [
      "Smoothing Tolerance\n"
     ]
    },
    {
     "data": {
      "application/vnd.jupyter.widget-view+json": {
       "model_id": "8531359ada294e628682c1eaa7029bcd",
       "version_major": 2,
       "version_minor": 0
      },
      "text/plain": [
       "interactive(children=(IntText(value=1, description='Linear Unit Value', style=DescriptionStyle(description_wid…"
      ]
     },
     "metadata": {},
     "output_type": "display_data"
    }
   ],
   "source": [
    "Output_Smooth = os.path.join(os.path.dirname(notebook_path), \"Output_Smooth.shp\")\n",
    "\n",
    "_Smoothing_Algorithm = widgets.Dropdown(\n",
    "    options=['PAEK', 'BEZIER_INTERPOLATION'],\n",
    "    value='PAEK',\n",
    "    description='Smoothing Algorithm:',\n",
    "    style=dict(description_width='initial')\n",
    ")\n",
    "\n",
    "def h(a, b):\n",
    "    return(str(a) + \" \" + str(b))\n",
    "\n",
    "_Smoothing_Tolerance = interactive(h, {'manual': True},a = widgets.IntText(\n",
    "    value=1,\n",
    "    description='Linear Unit Value',\n",
    "    style=dict(description_width='initial')\n",
    "), b = widgets.Dropdown(\n",
    "    options=['Centimeters','DecimalDegrees', 'Decimeters', 'Feet', 'Inches', 'Kilometers',\n",
    "             'Meters','Miles','Millimeters','NauticalMiles','Points', 'Unknown', 'Yards'],\n",
    "    value='Unknown',\n",
    "    description='Linear Unit Type:',\n",
    "    style=dict(description_width='initial')\n",
    "))\n",
    "\n",
    "_Handling_Topological_Errors_2 = widgets.Dropdown(\n",
    "    options=['NO_CHECK', 'FLAG_ERRORS', 'RESOLVE_ERRORS'],\n",
    "    value='NO_CHECK',\n",
    "    description='Handling Topological Errors:',\n",
    "    style=dict(description_width='initial')\n",
    ")\n",
    "\n",
    "# Create and display a FileChooser widget\n",
    "print(\"Barrier Features (leave \\\"No file selected\\\" to not use)\")\n",
    "barrier = FileChooser()\n",
    "display(barrier)\n",
    "\n",
    "display(_Smoothing_Algorithm)\n",
    "display(_Handling_Topological_Errors_2)\n",
    "print(\"Smoothing Tolerance\")\n",
    "display(_Smoothing_Tolerance)"
   ]
  },
  {
   "cell_type": "code",
   "execution_count": 11,
   "metadata": {
    "scrolled": true
   },
   "outputs": [
    {
     "data": {
      "text/plain": [
       "<Result 'C:\\\\Users\\\\kjuli\\\\PycharmProjects\\\\USGS_Geostatistics\\\\USGS_Geostatistics\\\\Output_Smooth.shp'>"
      ]
     },
     "execution_count": 11,
     "metadata": {},
     "output_type": "execute_result"
    }
   ],
   "source": [
    "Smoothing_Algorithm = _Smoothing_Algorithm.value\n",
    "\n",
    "Smoothing_Tolerance = _Smoothing_Tolerance.result\n",
    "if(\"None\" in Smoothing_Tolerance):\n",
    "    Smoothing_Tolerance = None\n",
    "\n",
    "Handling_Topological_Errors_2 = _Handling_Topological_Errors_2.value\n",
    "\n",
    "Input_Barrier_Layers_2_ = barrier.selected\n",
    "\n",
    "# Place cursor at end of method name (arcpy.Union_analysis) and press \"shift + tab\" for help\n",
    "arcpy.SmoothPolygon_cartography(in_features=Output_Simplify, out_feature_class=Output_Smooth,\n",
    "                                    algorithm=Smoothing_Algorithm, tolerance=Smoothing_Tolerance,\n",
    "                                    error_option=Handling_Topological_Errors_2, in_barriers=Input_Barrier_Layers_2_)"
   ]
  },
  {
   "cell_type": "markdown",
   "metadata": {},
   "source": [
    "## Update map frame and plot points"
   ]
  },
  {
   "cell_type": "code",
   "execution_count": null,
   "metadata": {},
   "outputs": [],
   "source": [
    "sdf = pd.DataFrame.spatial.from_featureclass(Output_Smooth)\n",
    "sdf.tail()\n",
    "map1 = gis.map('United States')\n",
    "sdf.spatial.plot(map_widget= map1)\n",
    "map1"
   ]
  },
  {
   "cell_type": "markdown",
   "metadata": {},
   "source": [
    "## Optional: delete intermediate files"
   ]
  },
  {
   "cell_type": "code",
   "execution_count": null,
   "metadata": {},
   "outputs": [],
   "source": [
    "# Process: Delete\n",
    "arcpy.Delete_management(Output_Simplify, \"\")"
   ]
  },
  {
   "cell_type": "markdown",
   "metadata": {},
   "source": [
    "## Process: Buffer"
   ]
  },
  {
   "cell_type": "markdown",
   "metadata": {},
   "source": [
    "![Process: Buffer](https://i.imgur.com/G5hFZAo.png)"
   ]
  },
  {
   "cell_type": "code",
   "execution_count": 80,
   "metadata": {},
   "outputs": [
    {
     "data": {
      "text/plain": [
       "'Finished. Run cell below to continue.'"
      ]
     },
     "metadata": {},
     "output_type": "display_data"
    }
   ],
   "source": [
    "Output_Buffer = os.path.join(os.path.dirname(notebook_path), \"Output_Buffer.shp\")\n",
    "\n",
    "_Side_Type = widgets.Dropdown(\n",
    "    options=['FULL', 'LEFT', 'RIGHT','OUTSIDE_ONLY'],\n",
    "    value='FULL',\n",
    "    description='Side Type:',\n",
    "    style=dict(description_width='initial')\n",
    ")\n",
    "\n",
    "_End_Type = widgets.Dropdown(\n",
    "    options=['ROUND', 'FLAT'],\n",
    "    value='ROUND',\n",
    "    description='End Type:',\n",
    "    style=dict(description_width='initial')\n",
    ")\n",
    "\n",
    "\n",
    "_Method = widgets.Dropdown(\n",
    "    options=['PLANAR', 'GEODESIC'],\n",
    "    value='PLANAR',\n",
    "    description='Method:',\n",
    "    style=dict(description_width='initial')\n",
    ")\n",
    "\n",
    "_Dissolve_Type = widgets.Dropdown(\n",
    "    options=['None', 'ALL', 'LIST'],\n",
    "    value='None',\n",
    "    description='Dissolve Type:',\n",
    "    style=dict(description_width='initial')\n",
    ")\n",
    "\n",
    "def i(a, b):\n",
    "    display(\"Finished. Run cell below to continue.\")\n",
    "    return (str(a) + \" \" + str(b))\n",
    "\n",
    "_Distance_value_or_field = interactive(i, {'manual': True},a = widgets.IntText(\n",
    "    value=0,\n",
    "    description='Linear Unit Value',\n",
    "    style=dict(description_width='initial')\n",
    "), b = widgets.Dropdown(\n",
    "    options=['None','Centimeters','DecimalDegrees', 'Decimeters', 'Feet', 'Inches', 'Kilometers',\n",
    "             'Meters','Miles','Millimeters','NauticalMiles','Points', 'Unknown', 'Yards'],\n",
    "    value='Unknown',\n",
    "    description='Linear Unit Type:',\n",
    "    style=dict(description_width='initial'),\n",
    "))\n",
    "\n",
    "display(_Side_Type)\n",
    "display(_End_Type)\n",
    "display(_Method)\n",
    "display(_Dissolve_Type)\n",
    "display(_Distance_value_or_field)"
   ]
  },
  {
   "cell_type": "code",
   "execution_count": 82,
   "metadata": {
    "scrolled": true
   },
   "outputs": [
    {
     "ename": "KeyboardInterrupt",
     "evalue": "",
     "output_type": "error",
     "traceback": [
      "\u001b[0;31m---------------------------------------------------------------------------\u001b[0m\n\u001b[0;31mKeyboardInterrupt\u001b[0m                         Traceback (most recent call last)",
      "In  \u001b[0;34m[82]\u001b[0m:\nLine \u001b[0;34m5\u001b[0m:     method=Method)\n",
      "File \u001b[0;34mc:\\program files\\arcgis\\pro\\Resources\\arcpy\\arcpy\\analysis.py\u001b[0m, in \u001b[0;32mBuffer\u001b[0m:\nLine \u001b[0;34m1128\u001b[0m:  retval = convertArcObjectToPythonObject(gp.Buffer_analysis(*gp_fixargs((in_features, out_feature_class, buffer_distance_or_field, line_side, line_end_type, dissolve_option, dissolve_field, method), \u001b[34mTrue\u001b[39;49;00m)))\n",
      "File \u001b[0;34mc:\\program files\\arcgis\\pro\\Resources\\arcpy\\arcpy\\geoprocessing\\_base.py\u001b[0m, in \u001b[0;32m<lambda>\u001b[0m:\nLine \u001b[0;34m511\u001b[0m:   \u001b[34mreturn\u001b[39;49;00m \u001b[34mlambda\u001b[39;49;00m *args: val(*gp_fixargs(args, \u001b[34mTrue\u001b[39;49;00m))\n",
      "\u001b[0;31mKeyboardInterrupt\u001b[0m: \n\u001b[0;31m---------------------------------------------------------------------------\u001b[0m"
     ]
    }
   ],
   "source": [
    "Distance_value_or_field = _Distance_value_or_field.result\n",
    "if(\"None\" in Distance_value_or_field):\n",
    "    Distance_value_or_field = None\n",
    "    \n",
    "Side_Type = _Side_Type.value\n",
    "if(\"None\" in Side_Type):\n",
    "    Side_Type = None\n",
    "\n",
    "End_Type = _End_Type.value\n",
    "Dissolve_Type = _Dissolve_Type.value\n",
    "if(\"None\" in Dissolve_Type):\n",
    "    Dissolve_Type = None\n",
    "Method = _Method.value\n",
    "\n",
    "# Place cursor at end of method name (arcpy.Union_analysis) and press \"shift + tab\" for help\n",
    "arcpy.Buffer_analysis(in_features=Output_Smooth, out_feature_class=Output_Buffer,\n",
    "                          buffer_distance_or_field=Distance_value_or_field, line_side=Side_Type,\n",
    "                          line_end_type=End_Type, dissolve_option=Dissolve_Type,\n",
    "                          method=Method)"
   ]
  },
  {
   "cell_type": "markdown",
   "metadata": {},
   "source": [
    "## Update map frame and plot points"
   ]
  },
  {
   "cell_type": "code",
   "execution_count": null,
   "metadata": {},
   "outputs": [],
   "source": [
    "sdf = pd.DataFrame.spatial.from_featureclass(Output_Buffer)\n",
    "sdf.tail()\n",
    "map1 = gis.map('United States')\n",
    "sdf.spatial.plot(map_widget= map1)\n",
    "map1"
   ]
  },
  {
   "cell_type": "markdown",
   "metadata": {},
   "source": [
    "## Optional: delete intermediate files"
   ]
  },
  {
   "cell_type": "code",
   "execution_count": null,
   "metadata": {},
   "outputs": [],
   "source": [
    "# Process: Delete\n",
    "arcpy.Delete_management(Output_Smooth, \"\")"
   ]
  },
  {
   "cell_type": "markdown",
   "metadata": {},
   "source": [
    "## Process: Eliminate Polygon Part"
   ]
  },
  {
   "cell_type": "markdown",
   "metadata": {},
   "source": [
    "![Process: Eliminate Polygon Part](https://i.imgur.com/ngPe4NU.png)"
   ]
  },
  {
   "cell_type": "code",
   "execution_count": 52,
   "metadata": {},
   "outputs": [
    {
     "data": {
      "text/plain": [
       "'Finished. Run cell below to continue.'"
      ]
     },
     "metadata": {},
     "output_type": "display_data"
    }
   ],
   "source": [
    "def f(a, b):\n",
    "    display(\"Finished. Run cell below to continue.\")\n",
    "    return ([a,b])\n",
    "\n",
    "_Condition = interactive(f, {'manual': True}, a = widgets.Dropdown(\n",
    "    options=['AREA', 'PERCENT', 'AREA_AND_PERCENT','AREA_OR_PERCENT'],\n",
    "    value=None,\n",
    "    description='Condition:',\n",
    "    style=dict(description_width='initial')\n",
    "), b = widgets.IntText(\n",
    "    value=None,\n",
    "    description='Percentage:',\n",
    "    style=dict(description_width='initial')\n",
    "))\n",
    "\n",
    "\n",
    "_Eliminate_contained_parts_only = widgets.Checkbox()\n",
    "_Eliminate_contained_parts_only.value=False\n",
    "_Eliminate_contained_parts_only.description=\"Eliminate Contained Parts Only\"\n",
    "_Eliminate_contained_parts_only.indent=False\n",
    "\n",
    "display(_Condition)\n",
    "display(_Eliminate_contained_parts_only)"
   ]
  },
  {
   "cell_type": "code",
   "execution_count": 54,
   "metadata": {
    "scrolled": true
   },
   "outputs": [
    {
     "data": {
      "text/plain": [
       "<Result 'C:\\\\Users\\\\kjuli\\\\PycharmProjects\\\\USGS_Geostatistics\\\\USGS_Geostatistics\\\\Output_Finished.shp'>"
      ]
     },
     "execution_count": 54,
     "metadata": {},
     "output_type": "execute_result"
    }
   ],
   "source": [
    "Condition = _Condition.result[0]\n",
    "Area = _Condition.result[1]\n",
    "Percentage = _Condition.result[1]\n",
    "Eliminate_contained_parts_only = _Eliminate_contained_parts_only.value\n",
    "\n",
    "# Place cursor at end of method name (arcpy.Union_analysis) and press \"shift + tab\" for help\n",
    "arcpy.EliminatePolygonPart_management(in_features=Output_Buffer, out_feature_class=Output_Finished,\n",
    "                                          condition=Condition, part_area=Area, part_area_percent=Percentage,\n",
    "                                          part_option=Eliminate_contained_parts_only)"
   ]
  },
  {
   "cell_type": "markdown",
   "metadata": {},
   "source": [
    "## Update map frame and plot points"
   ]
  },
  {
   "cell_type": "code",
   "execution_count": null,
   "metadata": {},
   "outputs": [],
   "source": [
    "sdf = pd.DataFrame.spatial.from_featureclass(Output_Finished)\n",
    "sdf.tail()\n",
    "map1 = gis.map('United States')\n",
    "sdf.spatial.plot(map_widget= map1)\n",
    "map1"
   ]
  },
  {
   "cell_type": "markdown",
   "metadata": {},
   "source": [
    "## Optional: delete intermediate files"
   ]
  },
  {
   "cell_type": "code",
   "execution_count": null,
   "metadata": {},
   "outputs": [],
   "source": [
    "# Process: Delete\n",
    "arcpy.Delete_management(Output_Buffer, \"\")"
   ]
  }
 ],
 "metadata": {
  "kernelspec": {
   "display_name": "ArcGISPro",
   "language": "Python",
   "name": "python3"
  },
  "language_info": {
   "file_extension": ".py",
   "name": "python",
   "version": "3"
  }
 },
 "nbformat": 4,
 "nbformat_minor": 2
}
